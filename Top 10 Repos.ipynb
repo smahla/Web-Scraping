{
 "cells": [
  {
   "cell_type": "markdown",
   "metadata": {},
   "source": [
    "## Top 10 Repositories On GitHub"
   ]
  },
  {
   "cell_type": "markdown",
   "metadata": {},
   "source": [
    "### Objectives\n",
    " - Get list of all topics on GitHub along with their urls\n",
    " - Ask user for topic\n",
    " - Output top 10 repos for that topic"
   ]
  },
  {
   "cell_type": "code",
   "execution_count": 2,
   "metadata": {},
   "outputs": [],
   "source": [
    "# import libraries\n",
    "import requests\n",
    "from bs4 import BeautifulSoup as bs\n",
    "import pandas as pd"
   ]
  },
  {
   "cell_type": "code",
   "execution_count": 3,
   "metadata": {},
   "outputs": [],
   "source": [
    "# Getting all topics\n",
    "topic_url = 'https://github.com/topics?page='\n",
    "topics_title = []\n",
    "title_class = 'f3 lh-condensed mb-0 mt-1 Link--primary'\n",
    "topics_desc = []\n",
    "desc_class = 'f5 color-text-secondary mb-0 mt-1'\n",
    "topics_url = []\n",
    "url_class = 'd-flex no-underline'\n",
    "base_url = 'https://github.com'\n"
   ]
  },
  {
   "cell_type": "code",
   "execution_count": 4,
   "metadata": {},
   "outputs": [],
   "source": [
    "count = 1\n",
    "while True:\n",
    "    new_url = topic_url + str(count)\n",
    "    response = requests.get(new_url)\n",
    "    html_content = response.text\n",
    "    html_content = bs(html_content,'html.parser')\n",
    "    topics = html_content.find_all('p', class_=title_class)\n",
    "    descs = html_content.find_all('p',class_=desc_class)\n",
    "    urls = all_url = html_content.find_all('a',class_=url_class)\n",
    "    if len(topics) > 0:\n",
    "        for topic in topics:\n",
    "            topics_title.append(topic.text)\n",
    "        for desc in descs:\n",
    "            topics_desc.append(desc.text.strip())\n",
    "        for url in urls:\n",
    "            topics_url.append(base_url + url['href'])\n",
    "    else:\n",
    "        break\n",
    "    count = count+1"
   ]
  },
  {
   "cell_type": "code",
   "execution_count": 5,
   "metadata": {},
   "outputs": [],
   "source": [
    "df_dict = {'title' : topics_title,\n",
    "           'description' : topics_desc,\n",
    "           'url' : topics_url\n",
    "          }"
   ]
  },
  {
   "cell_type": "code",
   "execution_count": 6,
   "metadata": {},
   "outputs": [
    {
     "data": {
      "text/html": [
       "<div>\n",
       "<style scoped>\n",
       "    .dataframe tbody tr th:only-of-type {\n",
       "        vertical-align: middle;\n",
       "    }\n",
       "\n",
       "    .dataframe tbody tr th {\n",
       "        vertical-align: top;\n",
       "    }\n",
       "\n",
       "    .dataframe thead th {\n",
       "        text-align: right;\n",
       "    }\n",
       "</style>\n",
       "<table border=\"1\" class=\"dataframe\">\n",
       "  <thead>\n",
       "    <tr style=\"text-align: right;\">\n",
       "      <th></th>\n",
       "      <th>title</th>\n",
       "      <th>description</th>\n",
       "      <th>url</th>\n",
       "    </tr>\n",
       "  </thead>\n",
       "  <tbody>\n",
       "    <tr>\n",
       "      <td>0</td>\n",
       "      <td>3D</td>\n",
       "      <td>3D modeling is the process of virtually develo...</td>\n",
       "      <td>https://github.com/topics/3d</td>\n",
       "    </tr>\n",
       "    <tr>\n",
       "      <td>1</td>\n",
       "      <td>Ajax</td>\n",
       "      <td>Ajax is a technique for creating interactive w...</td>\n",
       "      <td>https://github.com/topics/ajax</td>\n",
       "    </tr>\n",
       "    <tr>\n",
       "      <td>2</td>\n",
       "      <td>Algorithm</td>\n",
       "      <td>Algorithms are self-contained sequences that c...</td>\n",
       "      <td>https://github.com/topics/algorithm</td>\n",
       "    </tr>\n",
       "    <tr>\n",
       "      <td>3</td>\n",
       "      <td>Amp</td>\n",
       "      <td>Amp is a non-blocking concurrency framework fo...</td>\n",
       "      <td>https://github.com/topics/amphp</td>\n",
       "    </tr>\n",
       "    <tr>\n",
       "      <td>4</td>\n",
       "      <td>Android</td>\n",
       "      <td>Android is an operating system built by Google...</td>\n",
       "      <td>https://github.com/topics/android</td>\n",
       "    </tr>\n",
       "  </tbody>\n",
       "</table>\n",
       "</div>"
      ],
      "text/plain": [
       "       title                                        description  \\\n",
       "0         3D  3D modeling is the process of virtually develo...   \n",
       "1       Ajax  Ajax is a technique for creating interactive w...   \n",
       "2  Algorithm  Algorithms are self-contained sequences that c...   \n",
       "3        Amp  Amp is a non-blocking concurrency framework fo...   \n",
       "4    Android  Android is an operating system built by Google...   \n",
       "\n",
       "                                   url  \n",
       "0         https://github.com/topics/3d  \n",
       "1       https://github.com/topics/ajax  \n",
       "2  https://github.com/topics/algorithm  \n",
       "3      https://github.com/topics/amphp  \n",
       "4    https://github.com/topics/android  "
      ]
     },
     "execution_count": 6,
     "metadata": {},
     "output_type": "execute_result"
    }
   ],
   "source": [
    "df = pd.DataFrame(df_dict)\n",
    "df.head()"
   ]
  },
  {
   "cell_type": "code",
   "execution_count": 72,
   "metadata": {},
   "outputs": [],
   "source": [
    "def insert_topic(topic):\n",
    "    if topic in topics_title:\n",
    "        print('{} is available in GitHub.\\nListing Top 10 Repositories details.....'.format(topic))\n",
    "        repo_details(topic)\n",
    "    else:\n",
    "        print(\"Sorry, couldn't find your topic. Below are few options.\")\n",
    "        give_options(topic)\n"
   ]
  },
  {
   "cell_type": "code",
   "execution_count": 47,
   "metadata": {},
   "outputs": [],
   "source": [
    "def change_stars(val):\n",
    "    if val[-1] == 'k':\n",
    "        val = val.split('k')[0]\n",
    "        new_value = float(val)*1000\n",
    "        return int(new_value)\n",
    "    else:\n",
    "        return val\n"
   ]
  },
  {
   "cell_type": "code",
   "execution_count": 48,
   "metadata": {},
   "outputs": [],
   "source": [
    "def give_options(topic):\n",
    "    first_char = topic[0]\n",
    "    options = []\n",
    "    for first in topics_title:\n",
    "        if first[0] == first_char:\n",
    "            options.append(first)\n",
    "    if len(options) > 0:\n",
    "        print(options)"
   ]
  },
  {
   "cell_type": "code",
   "execution_count": 69,
   "metadata": {},
   "outputs": [],
   "source": [
    "def repo_details(topic):\n",
    "    url_from_df = df[df['title'] == topic]['url']\n",
    "    repo_link = url_from_df.to_string().split()[1]\n",
    "    response = requests.get(repo_link)\n",
    "    html_code = response.text\n",
    "    repos = bs(html_code,'html.parser')\n",
    "    h1_class = 'f3 color-text-secondary text-normal lh-condensed'\n",
    "    all_repos = repos.find_all('h1', class_= h1_class)\n",
    "    repos_url = []\n",
    "    stars = []\n",
    "    for repo in all_repos:\n",
    "        repo_url = repo.find_all('a')[1]['href']\n",
    "        repos_url.append(base_url + repo_url)\n",
    "    star_class = 'social-count float-none'\n",
    "    stars_list = repos.find_all('a', class_= star_class)\n",
    "    for star in stars_list:\n",
    "        new_star = change_stars(star.text.split()[0])\n",
    "        stars.append(new_star)\n",
    "    for i in range(0,10):\n",
    "        print('{} with {} stars'.format(repos_url[i],stars[i]))\n",
    "    "
   ]
  },
  {
   "cell_type": "code",
   "execution_count": 73,
   "metadata": {},
   "outputs": [],
   "source": [
    "def main_run():\n",
    "    topic = input('Please enter topic : ')\n",
    "    insert_topic(topic)"
   ]
  },
  {
   "cell_type": "code",
   "execution_count": 74,
   "metadata": {},
   "outputs": [
    {
     "name": "stdout",
     "output_type": "stream",
     "text": [
      "Please enter topic : SQL\n",
      "SQL is available in GitHub.\n",
      "Listing Top 10 Repositories details.....\n",
      "https://github.com/apache/spark with 29400 stars\n",
      "https://github.com/pingcap/tidb with 27500 stars\n",
      "https://github.com/sequelize/sequelize with 24100 stars\n",
      "https://github.com/cockroachdb/cockroach with 20300 stars\n",
      "https://github.com/dbeaver/dbeaver with 20000 stars\n",
      "https://github.com/osquery/osquery with 17800 stars\n",
      "https://github.com/ClickHouse/ClickHouse with 15500 stars\n",
      "https://github.com/mybatis/mybatis-3 with 15400 stars\n",
      "https://github.com/knex/knex with 14000 stars\n",
      "https://github.com/apache/shardingsphere with 13700 stars\n"
     ]
    }
   ],
   "source": [
    "### Main Run \n",
    "main_run()"
   ]
  },
  {
   "cell_type": "code",
   "execution_count": 75,
   "metadata": {},
   "outputs": [
    {
     "name": "stdout",
     "output_type": "stream",
     "text": [
      "Please enter topic : Javac\n",
      "Sorry, couldn't find your topic. Below are few options.\n",
      "['Java', 'JavaScript', 'Jekyll', 'JSON', 'Jupyter Notebook']\n"
     ]
    }
   ],
   "source": [
    "### Test Run\n",
    "main_run()"
   ]
  },
  {
   "cell_type": "code",
   "execution_count": null,
   "metadata": {},
   "outputs": [],
   "source": []
  },
  {
   "cell_type": "code",
   "execution_count": null,
   "metadata": {},
   "outputs": [],
   "source": []
  }
 ],
 "metadata": {
  "kernelspec": {
   "display_name": "Python 3",
   "language": "python",
   "name": "python3"
  },
  "language_info": {
   "codemirror_mode": {
    "name": "ipython",
    "version": 3
   },
   "file_extension": ".py",
   "mimetype": "text/x-python",
   "name": "python",
   "nbconvert_exporter": "python",
   "pygments_lexer": "ipython3",
   "version": "3.7.4"
  }
 },
 "nbformat": 4,
 "nbformat_minor": 2
}
